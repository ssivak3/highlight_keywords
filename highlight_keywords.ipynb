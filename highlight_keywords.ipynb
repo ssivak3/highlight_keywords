{
  "cells": [
    {
      "cell_type": "code",
      "source": [
        "# installation, uncomment to run the first time\n",
        "# !pip install python-rake"
      ],
      "metadata": {
        "id": "nBQYGUt3kbgA"
      },
      "id": "nBQYGUt3kbgA",
      "execution_count": 1,
      "outputs": []
    },
    {
      "cell_type": "code",
      "execution_count": 2,
      "id": "53ab60f7",
      "metadata": {
        "id": "53ab60f7"
      },
      "outputs": [],
      "source": [
        "import RAKE\n",
        "import operator \n",
        "import re\n",
        "from typing import List\n",
        "from pathlib import Path\n",
        "import pandas as pd\n",
        "import numpy as np\n",
        "import matplotlib.pyplot as plt\n",
        "import ast\n",
        "import csv\n",
        "\n",
        "import warnings\n",
        "pd.options.mode.chained_assignment = None"
      ]
    },
    {
      "cell_type": "code",
      "execution_count": 3,
      "id": "35aa748e",
      "metadata": {
        "id": "35aa748e"
      },
      "outputs": [],
      "source": [
        "# run RAKE algorithm: https://github.com/fabianvf/python-rake\n",
        "# rake.run(<text>, minCharacters = 1, maxWords = 5, minFrequency = 1)\n",
        "def get_keywords(text, rake_object, text_col): \n",
        "    keywords= []\n",
        "    # make n like 10 or something if u want to run it quickly\n",
        "    n = len(text)\n",
        "    for i in range(n):\n",
        "        kw = rake_object.run(text[text_col][i], maxWords = 30)\n",
        "        # change number of keywords generated based on length of text\n",
        "        keywords.append(kw[:3000])\n",
        "        # print progress\n",
        "        if i % 1000 == 0:\n",
        "            print(i)\n",
        "    return keywords\n",
        "\n",
        "def rake(df, text_col, stop_dir):\n",
        "  # check if user provided stopword directory \n",
        "    if stop_dir != \"\":\n",
        "      rake_object = RAKE.Rake(stop_dir)\n",
        "    else: \n",
        "      rake_object = RAKE.Rake(RAKE.SmartStopList())\n",
        "  \n",
        "    kw = get_keywords(df, rake_object, text_col) \n",
        "    \n",
        "    df[\"kwdf\"] = kw\n",
        "    kwdf = []\n",
        "    for i in range(len(df)):\n",
        "        kwdf.append([x[0] for x in df[[\"kwdf\"]].iloc[[i]].values[0][0]])\n",
        "\n",
        "    df[\"kwdf\"] = kwdf\n",
        "    df[\"score\"] = [kw[i][0][1] for i in range(len(kw))]\n",
        "    df[\"length\"] = [len(i) for i in df[text_col]]\n",
        "  \n",
        "    return df"
      ]
    },
    {
      "cell_type": "code",
      "execution_count": 4,
      "id": "7b575248",
      "metadata": {
        "id": "7b575248"
      },
      "outputs": [],
      "source": [
        "# HELPER FUNCTIONS FOR hl\n",
        "# set number of keywords\n",
        "def get_kwdf_len(df):\n",
        "    kwdf_len = []\n",
        "    for i in range(len(df)):\n",
        "        if df[\"length\"].iloc[i] < 10000:\n",
        "            n = np.ceil(df[\"length\"].iloc[i]/200)\n",
        "        else:\n",
        "            n = 100\n",
        "        kwdf_len.append(int(n))\n",
        "    return kwdf_len\n",
        "\n",
        "# add markers to highlight keywords\n",
        "def highlight(text, kwds):\n",
        "    hl_str = r\"\\b(?:\" + '|'.join(kwds) + r\")\\b\"\n",
        "    hl_text = re.sub(hl_str, '<mark>\\g<0></mark>', text, flags = re.I)\n",
        "#     hl_text = re.sub(hl_str, '\\033[43;1;91m\\g<0>\\033[m', text, flags = re.I)\n",
        "#     hl_text = re.sub(hl_str, '<span class=\"ansi-red-intense-fg ansi-yellow-bg ansi-bold\">\\g<0>\\</span>', text, flags = re.I)\n",
        "    return hl_text\n",
        "\n",
        "# escape characters that will affect regex \n",
        "def escape(text):\n",
        "    text = re.sub(r\"\\^\", \"\", text)\n",
        "    text = re.sub(r\"\\+\", \"\", text)\n",
        "    text = re.sub(r\"\\-\", \" \", text)\n",
        "    text = re.sub(r\"\\*\", \"\", text)\n",
        "    text = re.sub(r\"\\(\", \"\", text)\n",
        "    text = re.sub(r\"\\)\", \"\", text)\n",
        "    text = re.sub(r\"\\[\", \"\", text)\n",
        "    text = re.sub(r\"\\]\", \"\", text)\n",
        "    text = re.sub(r\"\\{\", \"\", text)\n",
        "    text = re.sub(r\"\\}\", \"\", text)\n",
        "    text = re.sub(r\"\\(s\\)\", \"\", text)\n",
        "    return(text)\n",
        "\n",
        "# helper function for format_tbl\n",
        "def format_tag(txt, row = \"\", tag = \"td\"):\n",
        "    \n",
        "    if row == \"first\":\n",
        "        txt = re.sub(\"^\", \"<tr><\" + tag + \">\", txt)\n",
        "    else: \n",
        "        txt = re.sub(\"^\", \"<\" + tag + \">\", txt)\n",
        "    if row == \"last\":\n",
        "        txt = re.sub(\"$\", \"</\" + tag + \"></tr>\", txt)\n",
        "    else:\n",
        "        txt = re.sub(\"$\", \"</\" + tag + \">\", txt)\n",
        "    return txt\n",
        "\n",
        "# add html tags to each line of the table\n",
        "def format_tbl(df):\n",
        "    for i in range(len(df.columns)):\n",
        "        if i == 0:\n",
        "            df[df.columns[i]] = df[df.columns[i]].apply(format_tag, row = \"first\")\n",
        "        elif i == len(df.columns) - 1:\n",
        "            df[df.columns[i]] = df[df.columns[i]].apply(format_tag, row = \"last\")\n",
        "        else:\n",
        "            df[df.columns[i]] = df[df.columns[i]].apply(format_tag)\n",
        "    return df "
      ]
    },
    {
      "cell_type": "code",
      "execution_count": 5,
      "id": "19908adb",
      "metadata": {
        "id": "19908adb"
      },
      "outputs": [],
      "source": [
        "# highlight keywords and format text as html \n",
        "def hl(df, cols):\n",
        "    kwdf_len = get_kwdf_len(df)\n",
        "    hl_text = []\n",
        "    tjc_hl_txt = []\n",
        "    for i in range(len(df)):\n",
        "        # highlight \n",
        "        text = escape(df[\"text\"].iloc[i])\n",
        "        kwds = df[\"kwdf\"].iloc[i][:kwdf_len[i]]\n",
        "        kwds = [escape(x) for x in kwds]\n",
        "        hl_text.append(highlight(text, kwds))\n",
        "        # shorten kwdf based on # of kwds highlighted\n",
        "        df[\"kwdf\"].iloc[i] = str(kwds)\n",
        "    df[\"hl_text\"] = hl_text\n",
        "    \n",
        "    df = df.applymap(str)\n",
        "    return format_tbl(df)[cols]"
      ]
    },
    {
      "cell_type": "code",
      "execution_count": 19,
      "id": "c4a79939",
      "metadata": {
        "id": "c4a79939"
      },
      "outputs": [],
      "source": [
        "# save dataframe to html \n",
        "def get_header(df):\n",
        "    header = \"<tr>\"\n",
        "    for i in df.columns.values:\n",
        "        header = header + format_tag(i.upper(), tag = \"th\")\n",
        "    header = header + \"</tr>\"\n",
        "    return header\n",
        "\n",
        "def save_html(df, filename, css_file = \"hl.css\"):\n",
        "    # save csv\n",
        "    csv_file = filename + \".csv\"\n",
        "    df.to_csv(csv_file, index = False, header = False, sep=\"\\t\", quoting=csv.QUOTE_NONE, quotechar=\"\",  escapechar=\"\\\\\")\n",
        "    \n",
        "    # open csv as txt \n",
        "    with open(csv_file) as csv_f:\n",
        "        csv_txt = csv_f.read()\n",
        "        \n",
        "    # add header and tail of html document\n",
        "    head_txt = '<!DOCTYPE html><html lang=\"en\"><head><meta charset=\"utf-8\"><title> data</title><link href=\"{css_file}\" rel=\"stylesheet\" type=\"text/css\"></head><body><table>'.format(css_file = css_file) + get_header(df)\n",
        "    tail_txt = '</table></body></html>'\n",
        "    html_txt = head_txt + csv_txt + tail_txt \n",
        "    \n",
        "    # create, write, and close html file \n",
        "    if not filename.endswith(\".html\"):\n",
        "        filename = filename + \".html\" \n",
        "\n",
        "    html_f = open(filename, \"w\")\n",
        "    html_f.write(html_txt)\n",
        "    html_f.close()\n",
        "    \n",
        "    print(\"saved as \" + filename)\n",
        "    "
      ]
    },
    {
      "cell_type": "code",
      "execution_count": 7,
      "id": "071c29b1",
      "metadata": {
        "id": "071c29b1"
      },
      "outputs": [],
      "source": [
        "# df -> uploaded dataset\n",
        "# text_col -> column containing text you want to analyze and highlight, make sure to pass in as list\n",
        "# filename -> desired html file path \n",
        "# stopwords -> optional, pass in text file containing list of stopwords, otherwise rake provided SmartStopList() is used, please see RAKE documentation\n",
        "# cols -> pass in list of columns to be included in output, default is [highlighted text, keywords]\n",
        "# css_file -> desired css file path, default is provided in repo\n",
        "\n",
        "def run(df, text_col = \"text\", filename = \"kw_hl.html\", stopwords = \"\", cols = [\"hl_text\", \"kw_df\"], css_file = \"hl.css\"):\n",
        "    if cols == []:\n",
        "        cols = df.columns\n",
        "    kw_df = rake(df, stop_dir = stopwords, text_col = text_col)\n",
        "    kw_hl = hl(kw_df, cols)\n",
        "    save_html(kw_hl, filename)\n",
        "    return kw_hl"
      ]
    },
    {
      "cell_type": "code",
      "execution_count": 9,
      "id": "ec2dbdf0",
      "metadata": {
        "scrolled": true,
        "id": "ec2dbdf0"
      },
      "outputs": [],
      "source": [
        "# set path = \"path/to/your/data.csv\"\n",
        "# make sure no NAs \n",
        "\n",
        "path = \"\"\n",
        "# df = pd.read_csv(path)\n",
        "# run(df = df, text_col = \"text\", filename = \"kw_hl.html\", stopwords = \"\", cols = [\"hl_text\", \"kwdf\"], css_file = \"hl.css\")"
      ]
    }
  ],
  "metadata": {
    "kernelspec": {
      "display_name": "Python 3 (ipykernel)",
      "language": "python",
      "name": "python3"
    },
    "language_info": {
      "codemirror_mode": {
        "name": "ipython",
        "version": 3
      },
      "file_extension": ".py",
      "mimetype": "text/x-python",
      "name": "python",
      "nbconvert_exporter": "python",
      "pygments_lexer": "ipython3",
      "version": "3.9.7"
    },
    "colab": {
      "name": "highlight_keywords.ipynb",
      "provenance": []
    }
  },
  "nbformat": 4,
  "nbformat_minor": 5
}